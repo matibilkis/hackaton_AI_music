{
 "cells": [
  {
   "cell_type": "markdown",
   "id": "selective-rhythm",
   "metadata": {},
   "source": [
    "What is the agent learning? Well just the identity map... It's pretty straightforward, since it's a delta.\n",
    "\n",
    "\n",
    "If we put as state the note played before, and the target is to learn the next note to play"
   ]
  },
  {
   "cell_type": "code",
   "execution_count": 1,
   "id": "voluntary-formation",
   "metadata": {},
   "outputs": [],
   "source": [
    "import numpy as np\n",
    "import matplotlib.pyplot as plt \n",
    "from IPython.display import display, HTML\n",
    "from tqdm import tqdm\n",
    "import os\n",
    "import pandas as pd\n",
    "\n",
    "class Record:\n",
    "    def __init__(self, T_0, notes_to_choose = 5):\n",
    "        self.notes_to_choose = notes_to_choose\n",
    "        self.transitions = [T_0]\n",
    "        self.trajectories = []\n",
    "    "
   ]
  },
  {
   "cell_type": "code",
   "execution_count": 2,
   "id": "incident-afghanistan",
   "metadata": {},
   "outputs": [],
   "source": [
    "class Evaluator():\n",
    "    def __init__(self):\n",
    "        self.reward_history = []\n",
    "        self.trajectories = []\n",
    "        self.trajectories_eval = []\n",
    "    def give_reward(self, guess, label):\n",
    "        if guess == label:\n",
    "            return 1\n",
    "        else:\n",
    "            return 0\n",
    "        \n",
    "class Agent():\n",
    "    def __init__(self, notes_to_choose, gamma=0., ep=0.01):\n",
    "        self.n_actions = notes_to_choose\n",
    "        self.states = notes_to_choose\n",
    "        self.q = np.ones((notes_to_choose, notes_to_choose))\n",
    "        self.n = np.ones((notes_to_choose, notes_to_choose))\n",
    "        \n",
    "        self.epsilon = ep\n",
    "        self.gamma = gamma\n",
    "        \n",
    "    def give_action(self, state, greedy=False):\n",
    "        if np.random.random()<self.epsilon and (greedy == False):\n",
    "            return np.random.choice(range(self.n_actions), 1)[0]\n",
    "        else:\n",
    "            qs = self.q[state,:]\n",
    "            qs = np.where( qs == np.max(qs) )[0]\n",
    "            return np.random.choice(qs, 1)[0]\n",
    "            \n",
    "\n",
    "    def q_learn(self, ts):\n",
    "        ### q-learn\n",
    "        for interaction in ts:\n",
    "            s, a, r, ns = interaction\n",
    "            if ns != -1:\n",
    "                self.n[s,a]+=1\n",
    "                self.q[s,a] += (r+ self.gamma*np.max(self.q[ns,:]) - self.q[s,a])/self.n[s,a]\n",
    "            else:\n",
    "                self.n[s,a]+=1\n",
    "                self.q[s,a] += (r- self.q[s,a])/self.n[s,a]\n",
    "                \n",
    "    def decrease_ep(self,ind):\n",
    "        self.epsilon = max(self.epsilon*np.exp(-(ind+1)/100), 0.01)\n",
    "        return\n",
    "    \n",
    "    def give_melody(self, melody):\n",
    "        note_player=[]\n",
    "        for ind,note in enumerate(melody):\n",
    "            note_player.append(self.give_action(note, greedy=True))\n",
    "        return note_player"
   ]
  },
  {
   "cell_type": "code",
   "execution_count": null,
   "id": "medieval-ecology",
   "metadata": {},
   "outputs": [],
   "source": [
    "evaluator = Evaluator()\n",
    "agent = Agent(12, gamma=0., ep=1)\n",
    "episode_evaluate = [0,1,2,3,10,20,30] \n",
    "\n",
    "melody = [0,1,2,3,4] \n",
    "\n",
    "for episode in tqdm(range(100)):\n",
    "    ts=[]\n",
    "    actions=[]\n",
    "    state = melody[0]\n",
    "    for ind,note in enumerate(melody[1:]):\n",
    "        \n",
    "        action = agent.give_action(state)\n",
    "        actions.append(action)\n",
    "        \n",
    "        reward = evaluator.give_reward(action,note)\n",
    "        evaluator.reward_history.append(reward)\n",
    "        \n",
    "        next_state = melody[ind+1]\n",
    "        ts.append([note, action, reward, next_state])\n",
    "        \n",
    "        \n",
    "    agent.q_learn(ts)\n",
    "    agent.decrease_ep(episode)\n",
    "    #evaluator.trajectories.append(actions)\n",
    "    \n",
    "    if episode in episode_evaluate:\n",
    "        evaluator.trajectories_eval.append(agent.give_melody(melody))\n",
    "        evaluator.trajectories.append(actions)\n",
    "\n",
    "        \n",
    "plt.figure(figsize=(10,10))\n",
    "plt.plot(np.cumsum(evaluator.reward_history)/np.arange(1,len(evaluator.reward_history)+1), linewidth=15, alpha=0.7,color=\"red\")\n",
    "plt.xlabel(\"Episodes\",size=30)\n",
    "plt.ylabel(\"Cumulative rewards\", size=30)\n",
    "plt.xticks(size=20)\n",
    "plt.yticks(size=20)\n",
    "plt.title(\"Learning curve\", size=30)"
   ]
  },
  {
   "cell_type": "code",
   "execution_count": null,
   "id": "recorded-patrol",
   "metadata": {},
   "outputs": [],
   "source": []
  },
  {
   "cell_type": "code",
   "execution_count": null,
   "id": "coordinate-amount",
   "metadata": {},
   "outputs": [],
   "source": []
  },
  {
   "cell_type": "code",
   "execution_count": null,
   "id": "asian-vessel",
   "metadata": {},
   "outputs": [],
   "source": []
  },
  {
   "cell_type": "code",
   "execution_count": null,
   "id": "accepted-project",
   "metadata": {},
   "outputs": [],
   "source": []
  },
  {
   "cell_type": "code",
   "execution_count": null,
   "id": "regulated-screening",
   "metadata": {},
   "outputs": [],
   "source": []
  },
  {
   "cell_type": "code",
   "execution_count": 36,
   "id": "front-speaking",
   "metadata": {},
   "outputs": [
    {
     "name": "stderr",
     "output_type": "stream",
     "text": [
      "100%|██████████| 100/100 [00:00<00:00, 1447.71it/s]\n"
     ]
    },
    {
     "data": {
      "text/plain": [
       "Text(0.5, 1.0, 'Learning curve')"
      ]
     },
     "execution_count": 36,
     "metadata": {},
     "output_type": "execute_result"
    },
    {
     "data": {
      "image/png": "[encoded data removed]",
      "text/plain": [
       "<Figure size 720x720 with 1 Axes>"
      ]
     },
     "metadata": {
      "needs_background": "light"
     },
     "output_type": "display_data"
    }
   ],
   "source": [
    "evaluator = Evaluator()\n",
    "agent = Agent(12, gamma=0., ep=1)\n",
    "episode_evaluate = [0,1,2,3,10,20,30] \n",
    "\n",
    "melody = [0,0,0,0,0] \n",
    "\n",
    "for episode in tqdm(range(100)):\n",
    "    ts=[]\n",
    "    actions=[]\n",
    "    for ind,note in enumerate(melody):\n",
    "        action = agent.give_action(note)\n",
    "        actions.append(action)\n",
    "        reward = evaluator.give_reward(action,note)\n",
    "        evaluator.reward_history.append(reward)\n",
    "        if ind!=len(melody)-1:\n",
    "            next_state = action\n",
    "        else:\n",
    "            next_state = -1\n",
    "        ts.append([note, action, reward, next_state])\n",
    "        \n",
    "        \n",
    "    agent.q_learn(ts)\n",
    "    agent.decrease_ep(episode)\n",
    "    #evaluator.trajectories.append(actions)\n",
    "    \n",
    "    if episode in episode_evaluate:\n",
    "        evaluator.trajectories_eval.append(agent.give_melody(melody))\n",
    "        evaluator.trajectories.append(actions)\n",
    "\n",
    "        \n",
    "plt.figure(figsize=(10,10))\n",
    "plt.plot(np.cumsum(evaluator.reward_history)/np.arange(1,len(evaluator.reward_history)+1), linewidth=15, alpha=0.7,color=\"red\")\n",
    "plt.xlabel(\"Episodes\",size=30)\n",
    "plt.ylabel(\"Cumulative rewards\", size=30)\n",
    "plt.xticks(size=20)\n",
    "plt.yticks(size=20)\n",
    "plt.title(\"Learning curve\", size=30)"
   ]
  },
  {
   "cell_type": "markdown",
   "id": "seven-possession",
   "metadata": {},
   "source": [
    "# CHECK OUT LEARNING CURVE WITH LONGER TRAINING!"
   ]
  },
  {
   "cell_type": "code",
   "execution_count": null,
   "id": "christian-mambo",
   "metadata": {},
   "outputs": [],
   "source": [
    "for ind, note in enumerate(melody):\n",
    "    "
   ]
  },
  {
   "cell_type": "code",
   "execution_count": null,
   "id": "brutal-bride",
   "metadata": {},
   "outputs": [],
   "source": []
  },
  {
   "cell_type": "code",
   "execution_count": null,
   "id": "broke-tampa",
   "metadata": {},
   "outputs": [],
   "source": []
  },
  {
   "cell_type": "code",
   "execution_count": 4,
   "id": "stuffed-hundred",
   "metadata": {},
   "outputs": [
    {
     "name": "stderr",
     "output_type": "stream",
     "text": [
      "100%|██████████| 1000/1000 [00:00<00:00, 4732.41it/s]\n"
     ]
    },
    {
     "data": {
      "text/plain": [
       "Text(0.5, 1.0, 'Learning curve')"
      ]
     },
     "execution_count": 4,
     "metadata": {},
     "output_type": "execute_result"
    },
    {
     "data": {
      "image/png": "[encoded data removed]",
      "text/plain": [
       "<Figure size 720x720 with 1 Axes>"
      ]
     },
     "metadata": {
      "needs_background": "light"
     },
     "output_type": "display_data"
    }
   ],
   "source": [
    "\n",
    "\n",
    "evaluator = Evaluator()\n",
    "agent = Agent(12, gamma=0., ep=1)\n",
    "episode_evaluate = [0,1,2,3,10,20,30] #[int(k) for k in np.logspace(0,4,10)]#np.logspace(0,4,10)#[0,1,3,5,10,50]#100,500]#list(range(10))#[0, 10, 50,100]\n",
    "\n",
    "melody = [0,1,2,3] \n",
    "\n",
    "for episode in tqdm(range(10**3)):\n",
    "    ts=[]\n",
    "    actions=[]\n",
    "    for ind,note in enumerate(melody):\n",
    "        action = agent.give_action(note)\n",
    "        actions.append(action)\n",
    "        reward = evaluator.give_reward(action,note)\n",
    "        evaluator.reward_history.append(reward)\n",
    "        if ind!=len(melody)-1:\n",
    "            next_state = action\n",
    "        else:\n",
    "            next_state = -1\n",
    "        ts.append([note, action, reward, next_state])\n",
    "        \n",
    "        \n",
    "    agent.q_learn(ts)\n",
    "    agent.decrease_ep(episode)\n",
    "    #evaluator.trajectories.append(actions)\n",
    "    \n",
    "    if episode in episode_evaluate:\n",
    "        evaluator.trajectories_eval.append(agent.give_melody(melody))\n",
    "        evaluator.trajectories.append(actions)\n",
    "\n",
    "        \n",
    "plt.figure(figsize=(10,10))\n",
    "plt.plot(np.cumsum(evaluator.reward_history)/np.arange(1,len(evaluator.reward_history)+1), linewidth=15, alpha=0.7,color=\"red\")\n",
    "plt.xlabel(\"Episodes\",size=30)\n",
    "plt.ylabel(\"Cumulative rewards\", size=30)\n",
    "plt.xticks(size=20)\n",
    "plt.yticks(size=20)\n",
    "plt.title(\"Learning curve\", size=30)"
   ]
  },
  {
   "cell_type": "markdown",
   "id": "equivalent-tunnel",
   "metadata": {},
   "source": [
    "# SAVE MELODIES!"
   ]
  },
  {
   "cell_type": "code",
   "execution_count": null,
   "id": "julian-contest",
   "metadata": {},
   "outputs": [],
   "source": [
    "os.makedirs(\"rl_trajs_more\", exist_ok=True)\n",
    "os.system(\"rm -r rl_trajs_more/*\")\n",
    "\n",
    "for ind,p in enumerate(evaluator.trajectories):\n",
    "    dictionary={\"notas1\":[66,64,60,70,62], \"weight\":p}\n",
    "    dd = pd.DataFrame.from_dict(dictionary, orient=\"index\")\n",
    "    dd.to_csv(\"rl_trajs\"+\"/episode_{}\".format(ind), header=False)"
   ]
  },
  {
   "cell_type": "markdown",
   "id": "amber-quantum",
   "metadata": {},
   "source": [
    "## Some pictorical GIF... (too fast though)"
   ]
  },
  {
   "cell_type": "markdown",
   "id": "premium-lesson",
   "metadata": {},
   "source": [
    "![SegmentLocal](figures/melody.gif \"segment\")"
   ]
  },
  {
   "cell_type": "code",
   "execution_count": null,
   "id": "several-omega",
   "metadata": {},
   "outputs": [],
   "source": []
  }
 ],
 "metadata": {
  "kernelspec": {
   "display_name": "Python 3",
   "language": "python",
   "name": "python3"
  },
  "language_info": {
   "codemirror_mode": {
    "name": "ipython",
    "version": 3
   },
   "file_extension": ".py",
   "mimetype": "text/x-python",
   "name": "python",
   "nbconvert_exporter": "python",
   "pygments_lexer": "ipython3",
   "version": "3.6.9"
  }
 },
 "nbformat": 4,
 "nbformat_minor": 5
}
