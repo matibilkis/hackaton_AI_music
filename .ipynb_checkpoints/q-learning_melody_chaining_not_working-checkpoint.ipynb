{
 "cells": [
  {
   "cell_type": "code",
   "execution_count": 221,
   "id": "incident-afghanistan",
   "metadata": {},
   "outputs": [],
   "source": [
    "import numpy as np\n",
    "import matplotlib.pyplot as plt \n",
    "from IPython.display import display, HTML\n",
    "from tqdm import tqdm\n",
    "import os\n",
    "import pandas as pd\n",
    "\n",
    "class Record:\n",
    "    def __init__(self, T_0, notes_to_choose = 5):\n",
    "        self.notes_to_choose = notes_to_choose\n",
    "        self.transitions = [T_0]\n",
    "        self.trajectories = []\n",
    "        \n",
    "    def give_transition_matrix(self,melody):\n",
    "        lookup = np.empty((len(melody)))\n",
    "        lookup[list(range(1,len(melody)+1))] = np.arange(len(melody))\n",
    "        counts = np.zeros((5,5))\n",
    "        np.add.at(counts, (melody[:-1], melody[1:]),1 )\n",
    "        probs = counts/counts.sum(axis=0, keepdims=True)\n",
    "        self.transitions.append(probs)\n",
    "        return probs\n",
    "    \n",
    "\n",
    "class Evaluator():\n",
    "    def __init__(self):\n",
    "        self.reward_history = []\n",
    "        self.trajectories = []\n",
    "    def give_reward(self, guess, label):\n",
    "        if guess == label:\n",
    "            return 1\n",
    "        else:\n",
    "            return 0\n",
    "    def give_reward_melody(self, guess, label):\n",
    "        #r=0\n",
    "        r=[]\n",
    "        for g,l in zip(guess, label):\n",
    "            if g==l:\n",
    "                r.append(1)\n",
    "                #r+1\n",
    "            else:\n",
    "                r.append(0)\n",
    "#                pass\n",
    "        return r#/len(guess)\n",
    "        \n",
    "class Agent():\n",
    "    def __init__(self, notes_to_choose, gamma=0., ep=0.01):\n",
    "        self.n_actions = notes_to_choose\n",
    "        self.states = notes_to_choose\n",
    "        self.q = np.zeros((notes_to_choose, notes_to_choose))\n",
    "        self.n = np.zeros((notes_to_choose, notes_to_choose))\n",
    "        self.epsilon = ep\n",
    "        self.gamma = gamma\n",
    "        \n",
    "    def give_action(self, state):\n",
    "        if np.random.random()<self.epsilon:\n",
    "            return np.random.choice(range(self.n_actions), 1)[0]\n",
    "        else:\n",
    "            qs = self.q[:,state]\n",
    "            qs = np.where( qs == np.max(qs) )[0]\n",
    "            return np.random.choice(qs, 1)[0]\n",
    "            \n",
    "\n",
    "    def q_learn(self, ts):\n",
    "        ### q-learn\n",
    "        for interaction in ts:\n",
    "            s, a, r, ns = interaction\n",
    "            self.n[s,a]+=1\n",
    "            lr = 1/self.n[s,a]\n",
    "            if ns != -1:\n",
    "                self.q[s,a] += (r+ agent.gamma*np.max(self.q[ns,:]))*lr\n",
    "            else:\n",
    "                self.q[s,a] += (r-self.q[s,a])*lr\n",
    "                \n",
    "    def decrease_ep(self,ind):\n",
    "        self.epsilon = max(self.epsilon*np.exp(-(ind+1)/100), 0.01)\n",
    "        return"
   ]
  },
  {
   "cell_type": "code",
   "execution_count": 222,
   "id": "front-speaking",
   "metadata": {},
   "outputs": [
    {
     "name": "stderr",
     "output_type": "stream",
     "text": [
      "100%|██████████| 3000/3000 [00:00<00:00, 3051.21it/s]\n"
     ]
    },
    {
     "data": {
      "text/plain": [
       "Text(0, 0.5, 'Cumulative reward ($\\\\frac{Success}{TOTAL}$)')"
      ]
     },
     "execution_count": 222,
     "metadata": {},
     "output_type": "execute_result"
    },
    {
     "data": {
      "image/png": "[encoded data removed]",
      "text/plain": [
       "<Figure size 720x720 with 1 Axes>"
      ]
     },
     "metadata": {
      "needs_background": "light"
     },
     "output_type": "display_data"
    }
   ],
   "source": [
    "evaluator = Evaluator()\n",
    "agent = Agent(5, gamma=0.9, ep=1)\n",
    "melody = [3,1,3,4,4,2,2,1]\n",
    "\n",
    "\n",
    "for episode in tqdm(range(3*10**3)):\n",
    "    state = 0\n",
    "    ts=[]\n",
    "    states, next_states, actions = [], [], []\n",
    "    for ind,note in enumerate(melody):\n",
    "        states.append(note)\n",
    "        action = agent.give_action(state)\n",
    "        actions.append(action)\n",
    "        if ind!=len(melody)-1:\n",
    "            next_state = action\n",
    "            next_states.append(next_state)\n",
    "        else:\n",
    "            next_state = -1\n",
    "            next_states.append(next_state)\n",
    "            rewards = evaluator.give_reward_melody(actions,states)\n",
    "            for ind in range(len(states)):\n",
    "                ts.append([states[ind], actions[ind], rewards[ind], next_states[ind]])\n",
    "            \n",
    "    agent.q_learn(ts)\n",
    "    agent.decrease_ep(episode)\n",
    "    evaluator.trajectories.append(actions)\n",
    "\n",
    "plt.figure(figsize=(10,10))\n",
    "plt.title(\"Melody: {}\".format(melody),size=30)\n",
    "plt.plot(np.cumsum(evaluator.reward_history)/np.arange(1,len(evaluator.reward_history)+1), linewidth=1)\n",
    "plt.xlabel(\"Number of repetitions of melody\",size=30)\n",
    "plt.ylabel(\"Cumulative reward (\"+r'$\\frac{Success}{TOTAL}$'+\")\",size=30)"
   ]
  },
  {
   "cell_type": "code",
   "execution_count": 224,
   "id": "tribal-police",
   "metadata": {},
   "outputs": [
    {
     "data": {
      "text/plain": [
       "[[3, 3, 1, 3],\n",
       " [1, 2, 0, 2],\n",
       " [3, 3, 1, 3],\n",
       " [4, 2, 0, 2],\n",
       " [4, 2, 0, 2],\n",
       " [2, 4, 0, 4],\n",
       " [2, 4, 0, 4],\n",
       " [1, 2, 0, -1]]"
      ]
     },
     "execution_count": 224,
     "metadata": {},
     "output_type": "execute_result"
    }
   ],
   "source": [
    "ts"
   ]
  },
  {
   "cell_type": "code",
   "execution_count": null,
   "id": "classified-police",
   "metadata": {},
   "outputs": [],
   "source": []
  },
  {
   "cell_type": "code",
   "execution_count": 212,
   "id": "harmful-occasion",
   "metadata": {},
   "outputs": [],
   "source": [
    "os.makedirs(\"rl_trajs_more\", exist_ok=True)\n",
    "os.system(\"rm -r rl_trajs_more/*\")\n",
    "\n",
    "for ind,p in enumerate(evaluator.trajectories):\n",
    "    dictionary={\"notas1\":[66,64,60,70,62], \"weight\":p}\n",
    "    dd = pd.DataFrame.from_dict(dictionary, orient=\"index\")\n",
    "    dd.to_csv(\"rl_trajs\"+\"/episode_{}\".format(ind), header=False)"
   ]
  },
  {
   "cell_type": "code",
   "execution_count": 193,
   "id": "opening-comment",
   "metadata": {},
   "outputs": [
    {
     "data": {
      "text/plain": [
       "30"
      ]
     },
     "execution_count": 193,
     "metadata": {},
     "output_type": "execute_result"
    }
   ],
   "source": [
    "len(evaluator.trajectories)\n"
   ]
  },
  {
   "cell_type": "code",
   "execution_count": null,
   "id": "sixth-parish",
   "metadata": {},
   "outputs": [],
   "source": []
  }
 ],
 "metadata": {
  "kernelspec": {
   "display_name": "Python 3",
   "language": "python",
   "name": "python3"
  },
  "language_info": {
   "codemirror_mode": {
    "name": "ipython",
    "version": 3
   },
   "file_extension": ".py",
   "mimetype": "text/x-python",
   "name": "python",
   "nbconvert_exporter": "python",
   "pygments_lexer": "ipython3",
   "version": "3.6.9"
  }
 },
 "nbformat": 4,
 "nbformat_minor": 5
}
