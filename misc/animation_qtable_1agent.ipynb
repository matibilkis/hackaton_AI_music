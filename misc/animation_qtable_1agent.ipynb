{
 "cells": [
  {
   "cell_type": "markdown",
   "id": "selective-rhythm",
   "metadata": {},
   "source": [
    "What is the agent learning? Well just the identity map... It's pretty straightforward, since it's a delta.\n",
    "\n",
    "\n",
    "If we put as state the note played before, and the target is to learn the next note to play"
   ]
  },
  {
   "cell_type": "code",
   "execution_count": 28,
   "id": "voluntary-formation",
   "metadata": {},
   "outputs": [],
   "source": [
    "import numpy as np\n",
    "import matplotlib.pyplot as plt \n",
    "from IPython.display import display, HTML\n",
    "from tqdm import tqdm\n",
    "import os\n",
    "import pandas as pd\n",
    "\n",
    "class Record:\n",
    "    def __init__(self, T_0, notes_to_choose = 5):\n",
    "        self.notes_to_choose = notes_to_choose\n",
    "        self.transitions = [T_0]\n",
    "        self.trajectories = []\n",
    "    "
   ]
  },
  {
   "cell_type": "code",
   "execution_count": 171,
   "id": "incident-afghanistan",
   "metadata": {},
   "outputs": [],
   "source": [
    "       \n",
    "class Agent():\n",
    "    def __init__(self, notes_to_choose, gamma=0., ep=0.01, index=0, lowest_key=0):\n",
    "\n",
    "        self.states = notes_to_choose\n",
    "        self.n_actions = notes_to_choose\n",
    "        \n",
    "        self.q = np.ones((notes_to_choose, notes_to_choose))\n",
    "        self.n = np.ones((notes_to_choose, notes_to_choose))\n",
    "        \n",
    "        self.lowest_key=lowest_key ##this will shift the scale of 12 notes\n",
    "        \n",
    "        self.epsilon = ep\n",
    "        self.gamma = gamma\n",
    "        self.index = index\n",
    "        self.qtables_history=[]\n",
    "        self.reward_history=[]\n",
    "        self.trajectories=[]\n",
    "        \n",
    "        self.shift_to = lambda melody: melody[1:] + [melody[0]]\n",
    "        self.shift_back = lambda melody: [melody[-1]] + melody[:-1]\n",
    "    \n",
    "        np.random.seed(self.index)\n",
    "        \n",
    "    def give_action(self, state, greedy=False):\n",
    "        if np.random.random()<self.epsilon and (greedy == False):\n",
    "            return np.random.choice(range(self.n_actions), 1)[0]\n",
    "        else:\n",
    "            qs = self.q[state,:]\n",
    "            qs = np.where( qs == np.max(qs) )[0]\n",
    "            return np.random.choice(qs, 1)[0]\n",
    "\n",
    "    def get_reward(self, guess, label):\n",
    "        if guess == label:\n",
    "            return 1\n",
    "        else:\n",
    "            return 0\n",
    "        \n",
    "    def q_learn(self, ts):\n",
    "        ### q-learn (bandit)\n",
    "        self.qtables_history.append(self.q.copy())\n",
    "        for interaction in ts:\n",
    "            s, a, r, ns = interaction\n",
    "            self.reward_history.append(r)\n",
    "            self.n[s,a]+=1\n",
    "            self.q[s,a] += (r- self.q[s,a])/self.n[s,a]\n",
    "        \n",
    "    def decrease_ep(self,ind, tau=500):\n",
    "        self.epsilon = max(self.epsilon*np.exp(-(ind+1)/tau), 0.01)\n",
    "        return\n",
    "    \n",
    "    def give_melody(self, melody):\n",
    "        note_player=[]\n",
    "        for ind,note in enumerate(melody):\n",
    "            note_player.append(self.give_action(note, greedy=True))\n",
    "        return note_player\n",
    "    \n",
    "    def learn_melody(self, melody, N=50):\n",
    "        #in case the melody is more agudo (we always keep to 12 notes)\n",
    "        print(melody)\n",
    "        melody = list(np.array(melody) - self.lowest_key)\n",
    "        #we shift the melody by one note. The agent hears the first note, and should reconstruct the entire melody.\n",
    "        shifted_melody = np.array(self.shift_to(melody) )\n",
    "        for episode in tqdm(range(N)):\n",
    "            ts=[]\n",
    "            #So the agent hears the first one.\n",
    "            state = melody[0]\n",
    "            actions=[]\n",
    "            #and then it loops for the other tones in the melody (at the final note, it should get the first one)\n",
    "            for note in shifted_melody:\n",
    "                action = self.give_action(state)\n",
    "                actions.append(action)\n",
    "                reward = self.get_reward(action,note)\n",
    "                \n",
    "                ## transition rule (easy case!)\n",
    "                next_state = note\n",
    "                ts.append([state, action, reward, next_state])\n",
    "                state = next_state ### and back to the loop!\n",
    "\n",
    "            self.q_learn(ts)\n",
    "            self.decrease_ep(episode)\n",
    "            self.trajectories.append(np.array(self.shift_back(actions)) + self.lowest_key)\n",
    "            \n",
    "    def get_cumulative(self):\n",
    "        return np.cumsum(self.reward_history)/np.arange(1,len(self.reward_history)+1)\n",
    "    \n",
    "    def get_learning_curve(self):\n",
    "        plt.figure(figsize=(10,10))\n",
    "        plt.plot(self.get_cumulative(), linewidth=15, alpha=0.7,color=\"red\")\n",
    "        plt.xlabel(\"Episodes\",size=30)\n",
    "        plt.ylabel(\"Cumulative rewards\", size=30)\n",
    "        plt.xticks(size=20)\n",
    "        plt.yticks(size=20)\n",
    "        plt.title(\"Learning curve\", size=30)"
   ]
  },
  {
   "cell_type": "code",
   "execution_count": 172,
   "id": "continuing-jordan",
   "metadata": {},
   "outputs": [
    {
     "name": "stderr",
     "output_type": "stream",
     "text": [
      "100%|██████████| 50/50 [00:00<00:00, 3412.67it/s]\n",
      "100%|██████████| 50/50 [00:00<00:00, 5550.52it/s]\n",
      "100%|██████████| 50/50 [00:00<00:00, 4583.04it/s]"
     ]
    },
    {
     "name": "stdout",
     "output_type": "stream",
     "text": [
      "[0 3 5 7]\n",
      "[ 3  6  8 10]\n",
      "[ 5  8 10 12]\n"
     ]
    },
    {
     "name": "stderr",
     "output_type": "stream",
     "text": [
      "\n"
     ]
    }
   ],
   "source": [
    "agents = {}\n",
    "major=[0,3,5]\n",
    "minor=[0,2,5]\n",
    "for ind in range(3):\n",
    "    agents[ind] = Agent(12, gamma=0., ep=1, index=ind, lowest_key=major[ind])\n",
    "    agents[ind].melody = np.array([0,3,5,7])+major[ind]\n",
    "    agents[ind].learn_melody(agents[ind].melody,N=50)"
   ]
  },
  {
   "cell_type": "code",
   "execution_count": 175,
   "id": "initial-audio",
   "metadata": {},
   "outputs": [],
   "source": [
    "for agent in agents.values():\n",
    "    os.makedirs(\"AIdata/agent{}/\".format(agent.index), exist_ok=True)\n",
    "    for ind, traj in enumerate(agent.trajectories):\n",
    "        np.savetxt(\"AIdata/agent{}/episode{}.csv\".format(agent.index, ind),np.array([traj]).astype(int)+60, fmt='%i', delimiter=\",\")"
   ]
  },
  {
   "cell_type": "code",
   "execution_count": 176,
   "id": "geological-description",
   "metadata": {},
   "outputs": [
    {
     "name": "stdout",
     "output_type": "stream",
     "text": [
      "[0 3 5 7]\n",
      "[ 3  6  8 10]\n",
      "[ 5  8 10 12]\n"
     ]
    },
    {
     "data": {
      "image/png": "[encoded data removed]",
      "text/plain": [
       "<Figure size 432x288 with 1 Axes>"
      ]
     },
     "metadata": {
      "needs_background": "light"
     },
     "output_type": "display_data"
    }
   ],
   "source": [
    "for agent in agents.values():\n",
    "    plt.plot(agent.get_cumulative(), linewidth=10, alpha=0.3)\n",
    "    print(agent.trajectories[-1])"
   ]
  },
  {
   "cell_type": "code",
   "execution_count": null,
   "id": "precious-institute",
   "metadata": {},
   "outputs": [],
   "source": []
  },
  {
   "cell_type": "code",
   "execution_count": null,
   "id": "stupid-powell",
   "metadata": {},
   "outputs": [],
   "source": []
  },
  {
   "cell_type": "code",
   "execution_count": null,
   "id": "flying-management",
   "metadata": {},
   "outputs": [],
   "source": []
  }
 ],
 "metadata": {
  "kernelspec": {
   "display_name": "Python 3",
   "language": "python",
   "name": "python3"
  },
  "language_info": {
   "codemirror_mode": {
    "name": "ipython",
    "version": 3
   },
   "file_extension": ".py",
   "mimetype": "text/x-python",
   "name": "python",
   "nbconvert_exporter": "python",
   "pygments_lexer": "ipython3",
   "version": "3.6.9"
  }
 },
 "nbformat": 4,
 "nbformat_minor": 5
}
