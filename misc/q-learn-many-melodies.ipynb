{
 "cells": [
  {
   "cell_type": "code",
   "execution_count": 24,
   "id": "incident-afghanistan",
   "metadata": {},
   "outputs": [],
   "source": [
    "import numpy as np\n",
    "import matplotlib.pyplot as plt \n",
    "from IPython.display import display, HTML\n",
    "from tqdm import tqdm\n",
    "import os\n",
    "import pandas as pd\n",
    "\n",
    "class Record:\n",
    "    def __init__(self, T_0, notes_to_choose = 5):\n",
    "        self.notes_to_choose = notes_to_choose\n",
    "        self.transitions = [T_0]\n",
    "        self.trajectories = []\n",
    "        \n",
    "    def give_transition_matrix(self,melody):\n",
    "        lookup = np.empty((5))\n",
    "        lookup[[0,1,2,3,4]] = np.arange(5)\n",
    "        counts = np.zeros((5,5))\n",
    "        np.add.at(counts, (melody[:-1], melody[1:]),1 )\n",
    "        probs = counts/counts.sum(axis=0, keepdims=True)\n",
    "        self.transitions.append(probs)\n",
    "        return probs\n",
    "    \n",
    "\n",
    "class Evaluator():\n",
    "    def __init__(self):\n",
    "        self.reward_history = []\n",
    "        self.trajectories = []\n",
    "        self.trajectories_eval = []\n",
    "    def give_reward(self, guess, label):\n",
    "        if guess == label:\n",
    "            return 1\n",
    "        else:\n",
    "            return 0\n",
    "        \n",
    "class Agent():\n",
    "    def __init__(self, notes_to_choose, gamma=0., ep=0.01):\n",
    "        self.n_actions = notes_to_choose\n",
    "        self.states = notes_to_choose\n",
    "        self.q = np.zeros((notes_to_choose, notes_to_choose))\n",
    "        self.n = np.zeros((notes_to_choose, notes_to_choose))\n",
    "        \n",
    "        self.epsilon = ep\n",
    "        self.gamma = gamma\n",
    "        \n",
    "    def give_action(self, state, greedy=False):\n",
    "        if np.random.random()<self.epsilon and (greedy == False):\n",
    "            return np.random.choice(range(self.n_actions), 1)[0]\n",
    "        else:\n",
    "            qs = self.q[state,:]\n",
    "            qs = np.where( qs == np.max(qs) )[0]\n",
    "            return np.random.choice(qs, 1)[0]\n",
    "            \n",
    "\n",
    "    def q_learn(self, ts):\n",
    "        ### q-learn\n",
    "        for interaction in ts:\n",
    "            s, a, r, ns = interaction\n",
    "            if ns != -1:\n",
    "                self.n[s,a]+=1\n",
    "                self.q[s,a] += (r+ self.gamma*np.max(self.q[ns,:]) - self.q[s,a])/self.n[s,a]\n",
    "            else:\n",
    "                self.n[s,a]+=1\n",
    "                self.q[s,a] += (r- self.q[s,a])/self.n[s,a]\n",
    "                \n",
    "    def decrease_ep(self,ind):\n",
    "        self.epsilon = max(self.epsilon*np.exp(-(ind+1)/80), 0.01)\n",
    "        return\n",
    "    \n",
    "    def give_melody(self, melody):\n",
    "        note_player=[]\n",
    "        for ind,note in enumerate(melody):\n",
    "            note_player.append(self.give_action(note, greedy=True))\n",
    "        return note_player"
   ]
  },
  {
   "cell_type": "code",
   "execution_count": 42,
   "id": "front-speaking",
   "metadata": {},
   "outputs": [],
   "source": [
    "\n",
    "def learn(melody):\n",
    "\n",
    "    evaluator = Evaluator()\n",
    "    agent = Agent(12, gamma=0., ep=0.5)\n",
    "    episode_evaluate = list(range(31)) #[int(k) for k in np.logspace(0,4,10)]#np.logspace(0,4,10)#[0,1,3,5,10,50]#100,500]#list(range(10))#[0, 10, 50,100]\n",
    "\n",
    "    for episode in tqdm(range(31)):\n",
    "        ts=[]\n",
    "        actions=[]\n",
    "        for ind,note in enumerate(melody):\n",
    "            action = agent.give_action(note)\n",
    "            actions.append(action)\n",
    "            reward = evaluator.give_reward(action,note)\n",
    "            evaluator.reward_history.append(reward)\n",
    "            if ind!=len(melody)-1:\n",
    "                next_state = action\n",
    "            else:\n",
    "                next_state = -1\n",
    "            ts.append([note, action, reward, next_state])\n",
    "\n",
    "\n",
    "        agent.q_learn(ts)\n",
    "        agent.decrease_ep(episode)\n",
    "        #evaluator.trajectories.append(actions)\n",
    "\n",
    "        if episode in episode_evaluate:\n",
    "            evaluator.trajectories_eval.append(agent.give_melody(melody))\n",
    "            evaluator.trajectories.append(actions)\n",
    "\n",
    "    return evaluator, agent\n",
    "            "
   ]
  },
  {
   "cell_type": "code",
   "execution_count": 26,
   "id": "promotional-barrel",
   "metadata": {},
   "outputs": [],
   "source": [
    "melodies = [[0,4,7,4,0], [4,7,9,7,4], [7,9,11,9,7]]"
   ]
  },
  {
   "cell_type": "code",
   "execution_count": 27,
   "id": "greatest-savage",
   "metadata": {},
   "outputs": [
    {
     "name": "stderr",
     "output_type": "stream",
     "text": [
      "100%|██████████| 31/31 [00:00<00:00, 652.23it/s]\n",
      "100%|██████████| 31/31 [00:00<00:00, 1352.73it/s]\n",
      "100%|██████████| 31/31 [00:00<00:00, 1255.23it/s]\n"
     ]
    }
   ],
   "source": [
    "evaluators =[]\n",
    "for m in melodies:\n",
    "    evaluators.append(learn(m))"
   ]
  },
  {
   "cell_type": "code",
   "execution_count": 28,
   "id": "mysterious-height",
   "metadata": {},
   "outputs": [],
   "source": [
    "traj={}\n",
    "for ind,ev in enumerate(evaluators):\n",
    "    traj[ind] = ev.trajectories"
   ]
  },
  {
   "cell_type": "code",
   "execution_count": 45,
   "id": "spare-novel",
   "metadata": {},
   "outputs": [],
   "source": [
    "evaluator = evaluators[0]"
   ]
  },
  {
   "cell_type": "code",
   "execution_count": 48,
   "id": "killing-lighter",
   "metadata": {},
   "outputs": [
    {
     "data": {
      "text/plain": [
       "[<matplotlib.lines.Line2D at 0x7f399141b7f0>]"
      ]
     },
     "execution_count": 48,
     "metadata": {},
     "output_type": "execute_result"
    },
    {
     "data": {
      "image/png": "[encoded data removed]",
      "text/plain": [
       "<Figure size 432x288 with 1 Axes>"
      ]
     },
     "metadata": {
      "needs_background": "light"
     },
     "output_type": "display_data"
    }
   ],
   "source": [
    "plt.figure(figsize=(10,10))\n",
    "plt.plot(np.cumsum(evaluator.reward_history)/np.arange(1,len(evaluator.reward_history)+1))"
   ]
  },
  {
   "cell_type": "code",
   "execution_count": null,
   "id": "third-laundry",
   "metadata": {},
   "outputs": [],
   "source": []
  },
  {
   "cell_type": "code",
   "execution_count": 29,
   "id": "opening-noise",
   "metadata": {},
   "outputs": [
    {
     "data": {
      "text/plain": [
       "[[2, 10, 2, 0, 1],\n",
       " [9, 3, 6, 6, 7],\n",
       " [8, 1, 6, 0, 8],\n",
       " [0, 7, 1, 5, 5],\n",
       " [0, 11, 2, 10, 0],\n",
       " [0, 7, 2, 2, 0],\n",
       " [0, 6, 3, 6, 0],\n",
       " [0, 3, 0, 1, 8],\n",
       " [6, 11, 2, 4, 0],\n",
       " [0, 4, 8, 4, 0],\n",
       " [0, 4, 5, 0, 0],\n",
       " [0, 4, 7, 8, 3],\n",
       " [11, 4, 3, 4, 0],\n",
       " [0, 9, 7, 0, 0],\n",
       " [0, 4, 7, 4, 0],\n",
       " [0, 4, 8, 4, 0],\n",
       " [0, 4, 7, 4, 0],\n",
       " [0, 4, 7, 4, 0],\n",
       " [0, 4, 7, 4, 0],\n",
       " [0, 4, 7, 4, 0],\n",
       " [0, 4, 7, 4, 0],\n",
       " [0, 4, 7, 4, 0],\n",
       " [0, 4, 7, 4, 2],\n",
       " [0, 4, 7, 4, 0],\n",
       " [0, 4, 7, 4, 0],\n",
       " [0, 4, 7, 4, 0],\n",
       " [0, 4, 7, 4, 0],\n",
       " [0, 4, 7, 4, 0],\n",
       " [0, 4, 7, 4, 0],\n",
       " [0, 4, 7, 4, 0],\n",
       " [0, 4, 7, 4, 0]]"
      ]
     },
     "execution_count": 29,
     "metadata": {},
     "output_type": "execute_result"
    }
   ],
   "source": [
    "traj[0]"
   ]
  },
  {
   "cell_type": "code",
   "execution_count": 7,
   "id": "respective-algorithm",
   "metadata": {},
   "outputs": [
    {
     "data": {
      "text/plain": [
       "[[0, 9, 2, 9, 6],\n",
       " [2, 0, 11, 5, 7],\n",
       " [9, 10, 5, 0, 2],\n",
       " [1, 9, 0, 10, 6],\n",
       " [5, 3, 9, 2, 8],\n",
       " [5, 11, 9, 7, 1],\n",
       " [7, 9, 4, 8, 5],\n",
       " [6, 7, 8, 7, 6],\n",
       " [3, 7, 9, 7, 4],\n",
       " [4, 11, 5, 6, 4],\n",
       " [1, 7, 6, 7, 8],\n",
       " [4, 7, 9, 1, 4],\n",
       " [4, 6, 9, 7, 4],\n",
       " [4, 7, 9, 7, 4],\n",
       " [4, 7, 9, 7, 4],\n",
       " [4, 7, 9, 7, 4],\n",
       " [4, 7, 9, 7, 4],\n",
       " [4, 7, 5, 7, 4],\n",
       " [4, 7, 9, 7, 4],\n",
       " [4, 7, 9, 7, 4],\n",
       " [4, 7, 9, 7, 4],\n",
       " [4, 7, 9, 7, 4],\n",
       " [4, 7, 9, 7, 4],\n",
       " [4, 7, 9, 7, 4],\n",
       " [4, 7, 9, 7, 4],\n",
       " [4, 7, 9, 7, 4],\n",
       " [4, 7, 9, 7, 4],\n",
       " [4, 7, 9, 7, 4],\n",
       " [4, 7, 9, 7, 4],\n",
       " [4, 7, 9, 7, 4],\n",
       " [4, 7, 9, 7, 4]]"
      ]
     },
     "execution_count": 7,
     "metadata": {},
     "output_type": "execute_result"
    }
   ],
   "source": [
    "traj[1]"
   ]
  },
  {
   "cell_type": "code",
   "execution_count": 8,
   "id": "anticipated-champion",
   "metadata": {},
   "outputs": [
    {
     "data": {
      "text/plain": [
       "[[11, 11, 1, 7, 3],\n",
       " [9, 6, 7, 3, 11],\n",
       " [3, 10, 2, 2, 2],\n",
       " [0, 4, 1, 10, 10],\n",
       " [3, 7, 7, 11, 1],\n",
       " [2, 11, 4, 7, 8],\n",
       " [8, 2, 3, 5, 8],\n",
       " [5, 8, 8, 9, 1],\n",
       " [1, 9, 5, 9, 4],\n",
       " [2, 9, 1, 9, 8],\n",
       " [10, 9, 5, 9, 5],\n",
       " [9, 5, 5, 9, 4],\n",
       " [9, 9, 9, 9, 8],\n",
       " [5, 9, 5, 9, 9],\n",
       " [11, 9, 6, 9, 10],\n",
       " [4, 9, 2, 9, 0],\n",
       " [10, 9, 0, 9, 8],\n",
       " [8, 9, 6, 1, 3],\n",
       " [4, 9, 10, 9, 8],\n",
       " [6, 9, 3, 9, 9],\n",
       " [3, 9, 3, 9, 8],\n",
       " [0, 9, 10, 9, 0],\n",
       " [7, 9, 4, 9, 1],\n",
       " [7, 9, 0, 9, 7],\n",
       " [7, 9, 0, 9, 7],\n",
       " [7, 9, 2, 9, 7],\n",
       " [7, 9, 10, 9, 7],\n",
       " [7, 9, 2, 9, 7],\n",
       " [7, 9, 4, 9, 7],\n",
       " [7, 9, 6, 9, 7],\n",
       " [7, 9, 11, 9, 7]]"
      ]
     },
     "execution_count": 8,
     "metadata": {},
     "output_type": "execute_result"
    }
   ],
   "source": [
    "traj[2]"
   ]
  },
  {
   "cell_type": "code",
   "execution_count": 35,
   "id": "invisible-circus",
   "metadata": {},
   "outputs": [],
   "source": []
  },
  {
   "cell_type": "code",
   "execution_count": 39,
   "id": "julian-contest",
   "metadata": {},
   "outputs": [],
   "source": [
    "for agent in range(len(evaluators)):\n",
    "    name=\"learning_ev{}\".format(agent)\n",
    "    os.makedirs(name, exist_ok=True)\n",
    "    os.system(\"rm -r {}/*\".format(name))\n",
    "\n",
    "    for ind,p in enumerate(evaluators[agent].trajectories):\n",
    "        lo=[list(np.array(p)+60), [int(k) for k in p]]\n",
    "        np.savetxt(\"{}/episode_{}.csv\".format(name,ind),lo, delimiter=\",\")\n",
    "        \n",
    "        #dd = pd.DataFrame.from_dict(dictionary, orient=\"index\")\n",
    "        #dd.to_csv(\"{}/episode_{}\".format(name,ind), header=False)"
   ]
  },
  {
   "cell_type": "code",
   "execution_count": 18,
   "id": "under-ranking",
   "metadata": {},
   "outputs": [],
   "source": [
    "N=12\n",
    "points = [np.exp(2*np.pi*k*1j/N) for k in range(N)]"
   ]
  },
  {
   "cell_type": "code",
   "execution_count": 41,
   "id": "false-arbor",
   "metadata": {},
   "outputs": [
    {
     "data": {
      "text/plain": [
       "[]"
      ]
     },
     "execution_count": 41,
     "metadata": {},
     "output_type": "execute_result"
    },
    {
     "data": {
      "image/png": "[encoded data removed]",
      "text/plain": [
       "<Figure size 720x720 with 1 Axes>"
      ]
     },
     "metadata": {},
     "output_type": "display_data"
    }
   ],
   "source": [
    "l=1.2\n",
    "size=1200\n",
    "plt.figure(figsize=(10,10))\n",
    "ax = plt.subplot2grid((1,1),(0,0))\n",
    "for ind,p in points:\n",
    "    ax.scatter(*[p.real, p.imag], s=size, alpha=0.3)\n",
    "    if \n",
    "ax.set_xlim([-l,l])\n",
    "ax.set_ylim([-l,l])\n",
    "ax.set_xticks([])\n",
    "ax.set_yticks([])"
   ]
  },
  {
   "cell_type": "code",
   "execution_count": null,
   "id": "incorporate-harvest",
   "metadata": {},
   "outputs": [],
   "source": []
  },
  {
   "cell_type": "code",
   "execution_count": null,
   "id": "increased-irish",
   "metadata": {},
   "outputs": [],
   "source": []
  },
  {
   "cell_type": "code",
   "execution_count": null,
   "id": "raised-signal",
   "metadata": {},
   "outputs": [],
   "source": []
  }
 ],
 "metadata": {
  "kernelspec": {
   "display_name": "Python 3",
   "language": "python",
   "name": "python3"
  },
  "language_info": {
   "codemirror_mode": {
    "name": "ipython",
    "version": 3
   },
   "file_extension": ".py",
   "mimetype": "text/x-python",
   "name": "python",
   "nbconvert_exporter": "python",
   "pygments_lexer": "ipython3",
   "version": "3.6.9"
  }
 },
 "nbformat": 4,
 "nbformat_minor": 5
}
